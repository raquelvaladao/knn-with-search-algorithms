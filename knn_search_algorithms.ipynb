{
  "nbformat": 4,
  "nbformat_minor": 0,
  "metadata": {
    "colab": {
      "provenance": [],
      "toc_visible": true
    },
    "kernelspec": {
      "name": "python3",
      "display_name": "Python 3"
    },
    "language_info": {
      "name": "python"
    }
  },
  "cells": [
    {
      "cell_type": "markdown",
      "source": [
        "# Importações das bibliotecas externas"
      ],
      "metadata": {
        "id": "Kt8owb2JkOzJ"
      }
    },
    {
      "cell_type": "code",
      "source": [
        "import numpy as np\n",
        "import queue\n",
        "from collections import deque\n",
        "import time\n",
        "import math\n",
        "import matplotlib.pyplot as plt\n",
        "from sklearn.neighbors import NearestNeighbors\n",
        "import numpy as np\n",
        "from sklearn.neighbors import NearestNeighbors\n",
        "import random\n",
        "import math\n",
        "from heapq import heappop, heappush"
      ],
      "metadata": {
        "id": "lxetES2MkMRp"
      },
      "execution_count": null,
      "outputs": []
    },
    {
      "cell_type": "markdown",
      "source": [
        "# Definições globais de variável"
      ],
      "metadata": {
        "id": "CtlbXkzokgcI"
      }
    },
    {
      "cell_type": "code",
      "source": [
        "seed = 13\n",
        "num_points = 2000\n",
        "\n",
        "executionsK3 = [\n",
        "    [(9488, 5880), (8564, 9598)],\n",
        "    [(6094, 5922), (7183, 5343)],\n",
        "    [(2881, 2367), (3722, 6447)],\n",
        "    [(8536, 3285), (8428, 3559)],\n",
        "    [(4710, 1963), (5792, 4198)],\n",
        "    [(1945, 141), (3712, 5834)],\n",
        "    [(8603, 6388), (7864, 9658)],\n",
        "    [(3320, 2774), (3876, 3771)],\n",
        "    [(3320, 2774), (3876, 3771)],\n",
        "    [(5624, 2898), (4458, 2414)]\n",
        "]\n",
        "\n",
        "executionsK7 = [\n",
        "    [(4500, 6121), (7195, 1604)],\n",
        "    [(4000, 4408), (91, 588)],\n",
        "    [(8037, 9967), (377, 5124)],\n",
        "    [(4993, 3921), (7960, 1856)],\n",
        "    [(3531, 2629), (8690, 4984)],\n",
        "    [(38, 9841), (4219, 9099)],\n",
        "    [(38, 9841), (4219, 9099)],\n",
        "    [(127, 2626), (4365, 3708)],\n",
        "    [(9927, 3093), (2894, 2180)],\n",
        "    [(3847, 9224), (9829, 4439)]\n",
        "]\n",
        "\n",
        "\n",
        "executionsK11 = [\n",
        "    [(447, 130), (1490, 7028)],\n",
        "    [(1427, 7307), (1521, 7211)],\n",
        "    [(8178, 672), (4, 8961)],\n",
        "    [(121, 9000), (142, 440)],\n",
        "    [(8563, 39), (516, 9755)],\n",
        "    [(121, 9000), (8563, 39)],\n",
        "    [(9920, 6004), (5060, 8442)],\n",
        "    [(8464, 1707), (1326, 3148)],\n",
        "    [(3741, 3894), (3756, 4684)],\n",
        "    [(3756, 4684), (4270, 500)]\n",
        "]\n"
      ],
      "metadata": {
        "id": "hkoDriNWk0el"
      },
      "execution_count": null,
      "outputs": []
    },
    {
      "cell_type": "markdown",
      "source": [
        "# Geração da rede KNN"
      ],
      "metadata": {
        "id": "KBtv45TOkY7H"
      }
    },
    {
      "cell_type": "code",
      "source": [
        "def gererateGraph(k):\n",
        "  np.random.seed(13)\n",
        "  new_points = np.random.randint(0, 10000, size=(num_points, 2))\n",
        "\n",
        "\n",
        "  # Calculando os vizinhos mais próximos usando o algoritmo KNN\n",
        "  knn = NearestNeighbors(n_neighbors=k+1)\n",
        "  knn.fit(new_points)\n",
        "  distances, indices = knn.kneighbors(new_points)\n",
        "\n",
        "  # Criando o grafo no formato desejado\n",
        "  graph = {}\n",
        "\n",
        "  for i in range(len(new_points)):\n",
        "      vertex = tuple(new_points[i])\n",
        "      neighbors = []\n",
        "\n",
        "      for j in indices[i]:\n",
        "          if i != j:  # Evita criar uma aresta entre um vértice e ele mesmo\n",
        "              neighbors.append(tuple(new_points[j]))\n",
        "\n",
        "      graph[vertex] = neighbors\n",
        "  return graph"
      ],
      "metadata": {
        "id": "XxU09N2okALc"
      },
      "execution_count": null,
      "outputs": []
    },
    {
      "cell_type": "markdown",
      "source": [
        "# BFS"
      ],
      "metadata": {
        "id": "X0PrTPHWlNjr"
      }
    },
    {
      "cell_type": "code",
      "execution_count": null,
      "metadata": {
        "id": "LGoNecYn3ImJ"
      },
      "outputs": [],
      "source": [
        "\n",
        "def bfs(graph, start, end):\n",
        "    queue = deque([(start, [start])])\n",
        "    visited = set([start])\n",
        "    paths = []\n",
        "    count = 0\n",
        "\n",
        "    while queue:\n",
        "        node, path = queue.popleft()\n",
        "        count = count + 1\n",
        "        if node == end:\n",
        "            paths.append((path))\n",
        "            paths.append(list(queue))\n",
        "            return paths, count\n",
        "          \n",
        "\n",
        "        for neighbor in graph[node]:\n",
        "            if neighbor not in visited:                        # se o filho do nó atual não foi visitado, add ao fim da fila.\n",
        "                queue.append((neighbor, path + [neighbor]))    # faz isso pra todos os filhos F->A,B,C depois (F,A), (F,B), (F,C), dna prox rodada add ao FIM: (F,A,H)\n",
        "                visited.add(neighbor)                          # depois pergunta se já chegou.  Então queue possui todos os filhos de um dado nível além da resposta final\n",
        "                \n",
        "    return None, count\n",
        "\n",
        "def dfs(graph, start, end):\n",
        "    stack = [(start, [start])]\n",
        "    visited = set([start])\n",
        "    all_paths = []\n",
        "    count = 0\n",
        "\n",
        "    while stack:\n",
        "        node, path = stack.pop()\n",
        "        count = count + 1\n",
        "        \n",
        "        if node == end:\n",
        "            all_paths.append((path))\n",
        "            all_paths.append(list(stack))\n",
        "            return all_paths, count\n",
        "\n",
        "        for neighbor in graph[node]:\n",
        "            if neighbor not in visited:\n",
        "                stack.append((neighbor, path + [neighbor]))\n",
        "                visited.add(neighbor)\n",
        "\n",
        "    return None, count\n",
        "\n",
        "def calculate_path_distance(path):\n",
        "    total_distance = 0\n",
        "\n",
        "    for i in range(len(path) - 1):\n",
        "        current_point = path[i]\n",
        "        next_point = path[i + 1]\n",
        "\n",
        "        distance = math.sqrt((next_point[0] - current_point[0])**2 + (next_point[1] - current_point[1])**2)\n",
        "        total_distance += distance\n",
        "\n",
        "    return total_distance\n",
        "\n",
        "def plot_graph_path_BFS_DFS(graph, paths):\n",
        "    fig, ax = plt.subplots(figsize=(24, 18))\n",
        "    ax.set_aspect('equal', adjustable='datalim')\n",
        "\n",
        "    # Plotar as arestas do grafo\n",
        "    for node in graph:\n",
        "      x, y = node\n",
        "      # ax.text(x, y, f'({x},{y})', color='black')\n",
        "      for neighbor in graph[node]:\n",
        "          nx, ny = neighbor\n",
        "          ax.plot([x, nx], [y, ny], color='gray')\n",
        "\n",
        "    # Plotar os demais caminhos em amarelo\n",
        "    for path in paths[1:]:\n",
        "      for visited in path:\n",
        "          # color = random.choice(['yellow', 'green', 'blue', 'orange', 'pink'])\n",
        "          for i in range(len(visited[1]) - 1): # A STAR É 2, BFS E DFS EH 1\n",
        "              node1 = visited[1][i]\n",
        "              node2 = visited[1][i + 1]\n",
        "              x = [node1[0], node2[0]]\n",
        "              y = [node1[1], node2[1]]\n",
        "              ax.plot(x, y, color='blue')\n",
        "              ax.plot(x, y, 'o', color='blue', markersize=5)\n",
        "\n",
        "    # Plotar o primeiro caminho em vermelho\n",
        "    first_path = paths[0]\n",
        "    for i in range(len(first_path) - 1):\n",
        "        x = [first_path[i][0], first_path[i+1][0]]\n",
        "        y = [first_path[i][1], first_path[i+1][1]]\n",
        "        ax.plot(x, y, color='red')  # aresta\n",
        "        ax.text(first_path[i][0], first_path[i][1], f'({first_path[i][0]},{first_path[i][1]})', color='black') # coordenada\n",
        "        ax.text(first_path[i+1][0], first_path[i+1][1], f'({first_path[i+1][0]},{first_path[i+1][1]})', color='black') # coordenada\n",
        "        if i + 1 == len(first_path):\n",
        "          ax.plot(x, y, '^', color='red', markersize=3) # triangulo - destino\n",
        "        else:\n",
        "          ax.plot(x, y, 'o', color='red', markersize=3) # ponto\n",
        "\n",
        "    ax.set_xlim([0, 10000])\n",
        "    ax.set_ylim([0, 10000])\n",
        "\n"
      ]
    },
    {
      "cell_type": "markdown",
      "source": [
        "# Escrita no sheets"
      ],
      "metadata": {
        "id": "90lazGmWlwQB"
      }
    },
    {
      "cell_type": "code",
      "source": [
        "from google.colab import auth\n",
        "auth.authenticate_user()\n",
        "\n",
        "import gspread\n",
        "from google.auth import default\n",
        "creds, _ = default()\n",
        "\n",
        "gc = gspread.authorize(creds)\n",
        "\n",
        "def escreveNaTabela(results):\n",
        "  spreadsheet = gc.open('Execuções Algoritmos de Busca')\n",
        "  sheet = spreadsheet.worksheet('Execuções')\n",
        "\n",
        "  for row in results:\n",
        "    sheet.append_row(row)"
      ],
      "metadata": {
        "id": "kaGtGQ4yGDAB"
      },
      "execution_count": null,
      "outputs": []
    },
    {
      "cell_type": "markdown",
      "source": [
        "# Execuções"
      ],
      "metadata": {
        "id": "1LfQ284klXud"
      }
    },
    {
      "cell_type": "code",
      "source": [
        "def executeSearch(search, executions, k):\n",
        "\n",
        "  graph = gererateGraph(k)\n",
        "  results = []\n",
        "  for i, execution in enumerate(executions):\n",
        "    start_time = time.time()\n",
        "    if search == 'bfs':\n",
        "      path, count_visited = bfs(graph, execution[0], execution[1])\n",
        "    else:\n",
        "      path, count_visited = dfs(graph, execution[0], execution[1])\n",
        "\n",
        "    elapsed_time = time.time() - start_time\n",
        "\n",
        "    # plot_graph(graph, execution)\n",
        "    if path is not None:\n",
        "\n",
        "        results.append([\n",
        "            str(i+1), #nro execução\n",
        "            str(search), # sigla algoritmo de busca\n",
        "            str(k), # quantidade de vizinhos\n",
        "            str(seed), # seed aleatoria\n",
        "            str(execution[0]), # nó origem\n",
        "            str(execution[1]), # nó destino\n",
        "            str(round(elapsed_time, 10)), # tempo gasto\n",
        "            str(round(calculate_path_distance(path[0]), 3)), #distancia euclidiana\n",
        "            str(len(path[0])), # nro de nós até chegar ao destino\n",
        "            str(count_visited) # nro de nós visitados no total\n",
        "        ])\n",
        "\n",
        "        # plot_graph_path_BFS_DFS(graph, path)\n",
        "    else:\n",
        "        print(\"Não há caminho alcançável entre os nós de origem e destino.\")\n",
        "  escreveNaTabela(results)\n",
        "\n"
      ],
      "metadata": {
        "id": "x-L6yU5FlcP_"
      },
      "execution_count": null,
      "outputs": []
    },
    {
      "cell_type": "code",
      "source": [
        "executeSearch('dfs', executionsK3, 3)\n",
        "executeSearch('dfs', executionsK7, 7)\n",
        "executeSearch('dfs', executionsK11, 11)\n",
        "\n",
        "executeSearch('bfs', executionsK3, 3)\n",
        "executeSearch('bfs', executionsK7, 7)\n",
        "executeSearch('bfs', executionsK11, 11)\n"
      ],
      "metadata": {
        "id": "PndpR2AXqZ27"
      },
      "execution_count": null,
      "outputs": []
    }
  ]
}